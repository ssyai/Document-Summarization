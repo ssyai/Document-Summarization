{
 "cells": [
  {
   "cell_type": "code",
   "execution_count": 1,
   "id": "08b6c10b-c94e-4c7c-aff2-0ae53375f63a",
   "metadata": {},
   "outputs": [
    {
     "name": "stdout",
     "output_type": "stream",
     "text": [
      "Requirement already satisfied: faiss-cpu in /Library/Frameworks/Python.framework/Versions/3.12/lib/python3.12/site-packages (1.8.0.post1)\n",
      "Requirement already satisfied: numpy<2.0,>=1.0 in /Library/Frameworks/Python.framework/Versions/3.12/lib/python3.12/site-packages (from faiss-cpu) (1.26.4)\n",
      "Requirement already satisfied: packaging in /Library/Frameworks/Python.framework/Versions/3.12/lib/python3.12/site-packages (from faiss-cpu) (24.1)\n",
      "Note: you may need to restart the kernel to use updated packages.\n"
     ]
    }
   ],
   "source": [
    "pip install faiss-cpu"
   ]
  },
  {
   "cell_type": "code",
   "execution_count": 2,
   "id": "7bb5251a-92c5-4be0-82fa-0cb0fb24f6e8",
   "metadata": {},
   "outputs": [],
   "source": [
    "import numpy as np\n",
    "import faiss\n",
    "\n",
    "# Create a random dataset of vectors\n",
    "np.random.seed(42)  # For reproducibility\n",
    "d = 128  # Dimensionality of the vectors\n",
    "nb = 10000  # Number of vectors in the dataset\n",
    "nq = 5  # Number of query vectors\n",
    "\n",
    "# Generate random vectors (dataset and query)\n",
    "data_vectors = np.random.random((nb, d)).astype('float32')\n",
    "query_vectors = np.random.random((nq, d)).astype('float32')\n"
   ]
  },
  {
   "cell_type": "code",
   "execution_count": 5,
   "id": "833fc45a-33e8-429d-8f59-0b34abede334",
   "metadata": {},
   "outputs": [
    {
     "name": "stdout",
     "output_type": "stream",
     "text": [
      "IVF Index Results:\n",
      "Indices of Nearest Neighbors:\n",
      " [[8769 9571 3948 4436]\n",
      " [3314 7078 8916  957]\n",
      " [6304 7784 1416 2755]\n",
      " [8190 3455 7757 7333]\n",
      " [  59 6033 9316 6865]]\n",
      "Distances to Nearest Neighbors:\n",
      " [[13.346962  14.837142  15.330732  15.379183 ]\n",
      " [12.774042  13.365513  13.785868  13.9384775]\n",
      " [15.7264385 15.7710285 15.820051  15.835105 ]\n",
      " [13.868846  14.173682  14.198276  14.473603 ]\n",
      " [13.91506   14.19504   14.624182  14.83807  ]]\n"
     ]
    }
   ],
   "source": [
    "#Setting Up and Using IVF Index - Inverted File Index\n",
    "# Number of clusters (number of inverted lists)\n",
    "nlist = 100\n",
    "\n",
    "# Build the index\n",
    "quantizer = faiss.IndexFlatL2(d)  # The quantizer is an IndexFlatL2, it is used for coarse quantization\n",
    "index_ivf = faiss.IndexIVFFlat(quantizer, d, nlist, faiss.METRIC_L2)\n",
    "\n",
    "# Train the index\n",
    "index_ivf.train(data_vectors)\n",
    "\n",
    "# Add vectors to the index\n",
    "index_ivf.add(data_vectors)\n",
    "\n",
    "# Search the index\n",
    "k = 4  # Number of nearest neighbors to search for\n",
    "index_ivf.nprobe = 10  # Number of clusters to search in\n",
    "distances, indices = index_ivf.search(query_vectors, k)\n",
    "\n",
    "# Output the results\n",
    "print(\"IVF Index Results:\")\n",
    "print(\"Indices of Nearest Neighbors:\\n\", indices)\n",
    "print(\"Distances to Nearest Neighbors:\\n\", distances)\n"
   ]
  },
  {
   "cell_type": "code",
   "execution_count": 6,
   "id": "e3c67686-96c3-4b4a-8ff4-fb0875a2200d",
   "metadata": {},
   "outputs": [
    {
     "name": "stdout",
     "output_type": "stream",
     "text": [
      "\n",
      "HNSW Index Results:\n",
      "Indices of Nearest Neighbors:\n",
      " [[9385 5125 9571 3491]\n",
      " [2779 8916  957 8861]\n",
      " [3014 4097 5784 2755]\n",
      " [8808 9253 7506 8190]\n",
      " [7630   59 6994 6033]]\n",
      "Distances to Nearest Neighbors:\n",
      " [[14.548448  14.756077  14.837141  14.912471 ]\n",
      " [13.566153  13.785869  13.9384775 14.088596 ]\n",
      " [15.4164095 15.693481  15.824047  15.835105 ]\n",
      " [12.672464  13.022816  13.64159   13.868846 ]\n",
      " [13.786429  13.91506   14.109114  14.19504  ]]\n"
     ]
    }
   ],
   "source": [
    "#HNSW - graph based approximate nearest neighbor search algorithm - Hierarchical Navigable Small World\n",
    "# Build the index\n",
    "index_hnsw = faiss.IndexHNSWFlat(d, 32)  # 32 is the number of neighbors per layer (M parameter)\n",
    "\n",
    "# Add vectors to the index\n",
    "index_hnsw.add(data_vectors)\n",
    "\n",
    "# Search the index\n",
    "k = 4  # Number of nearest neighbors to search for\n",
    "distances_hnsw, indices_hnsw = index_hnsw.search(query_vectors, k)\n",
    "\n",
    "# Output the results\n",
    "print(\"\\nHNSW Index Results:\")\n",
    "print(\"Indices of Nearest Neighbors:\\n\", indices_hnsw)\n",
    "print(\"Distances to Nearest Neighbors:\\n\", distances_hnsw)\n"
   ]
  },
  {
   "cell_type": "code",
   "execution_count": null,
   "id": "6da4caa0-6477-419a-8df4-9a6d194a0d72",
   "metadata": {},
   "outputs": [],
   "source": []
  }
 ],
 "metadata": {
  "kernelspec": {
   "display_name": "Python 3 (ipykernel)",
   "language": "python",
   "name": "python3"
  },
  "language_info": {
   "codemirror_mode": {
    "name": "ipython",
    "version": 3
   },
   "file_extension": ".py",
   "mimetype": "text/x-python",
   "name": "python",
   "nbconvert_exporter": "python",
   "pygments_lexer": "ipython3",
   "version": "3.12.5"
  }
 },
 "nbformat": 4,
 "nbformat_minor": 5
}
